{
 "cells": [
  {
   "cell_type": "code",
   "execution_count": 4,
   "metadata": {},
   "outputs": [],
   "source": [
    "import datetime\n",
    "import MetaTrader5 as mt5\n",
    "import numpy as np\n",
    "import pandas as pd\n",
    "from datetime import datetime as dt\n",
    "import numba as nb\n",
    "from collections import defaultdict \n",
    "from tqdm.notebook import tqdm"
   ]
  },
  {
   "cell_type": "code",
   "execution_count": 5,
   "metadata": {},
   "outputs": [
    {
     "name": "stdout",
     "output_type": "stream",
     "text": [
      "(1, 'Success')\n"
     ]
    }
   ],
   "source": [
    "if not mt5.initialize():\n",
    "    print(mt5.last_error())\n",
    "    mt5.shutdown()\n",
    "else:\n",
    "    authorized=mt5.login(18676, password=\"aTOirs42\", server=\"GoMarkets-Demo\")\n",
    "    print(mt5.last_error())"
   ]
  },
  {
   "cell_type": "code",
   "execution_count": 17,
   "metadata": {},
   "outputs": [],
   "source": [
    "def getData(numBefore, timePeriod, signal, timeDict):\n",
    "    rates = mt5.copy_rates_from_pos(signal, timeDict[timePeriod], 1, numBefore)       \n",
    "    ratesDf = pd.DataFrame(rates)\n",
    "    return ratesDf\n",
    "\n",
    "def getStoch(data, n):\n",
    "    close = data.close\n",
    "    low = data.low\n",
    "    high = data.high\n",
    "    \n",
    "    STOK = ((close - low.rolling(n).min()) / (high.rolling(n).max() - low.rolling(n).min())) * 100\n",
    "    STOD = STOK.rolling(3).mean()\n",
    "    \n",
    "    return STOK, STOD\n",
    "\n",
    "def getAllInfo(rates, n):\n",
    "    stok, stod = getStoch(rates, n)\n",
    "    \n",
    "    outDf = rates.copy()\n",
    "    outDf['stok'] = stok\n",
    "    outDf['stod'] = stod\n",
    "    \n",
    "    outDf.drop(columns=['tick_volume', 'spread', 'real_volume'], inplace=True)\n",
    "    finalOut = outDf[outDf['stod']>0]\n",
    "    \n",
    "    return finalOut"
   ]
  },
  {
   "cell_type": "markdown",
   "metadata": {},
   "source": [
    "## Try to simply get the value of the scholastic for a signal"
   ]
  },
  {
   "cell_type": "code",
   "execution_count": 31,
   "metadata": {},
   "outputs": [
    {
     "name": "stdout",
     "output_type": "stream",
     "text": [
      "          time     open     high      low    close       stok       stod\n",
      "15  1604999700  0.72848  0.72927  0.72848  0.72919  95.428571  83.781221\n",
      "16  1605000600  0.72920  0.72929  0.72797  0.72860  61.016949  75.701401\n",
      "17  1605001500  0.72859  0.72881  0.72755  0.72756   2.259887  52.901803\n",
      "18  1605002400  0.72754  0.72876  0.72749  0.72834  47.222222  36.833019\n",
      "19  1605003300  0.72835  0.72892  0.72804  0.72856  59.444444  36.308851\n",
      "..         ...      ...      ...      ...      ...        ...        ...\n",
      "95  1605071700  0.73103  0.73180  0.73092  0.73174  98.584906  86.903215\n",
      "96  1605072600  0.73176  0.73176  0.73092  0.73125  87.028302  91.767976\n",
      "97  1605073500  0.73122  0.73176  0.73095  0.73130  88.207547  91.273585\n",
      "98  1605074400  0.73129  0.73142  0.73065  0.73078  75.943396  83.726415\n",
      "99  1605075300  0.73074  0.73086  0.73061  0.73065  72.877358  79.009434\n",
      "\n",
      "[85 rows x 7 columns]\n"
     ]
    }
   ],
   "source": [
    "## Get the values and compare with real data to validate\n",
    "timeDict = {'15': mt5.TIMEFRAME_M15, '30': mt5.TIMEFRAME_M30, '60': mt5.TIMEFRAME_H1}\n",
    "timePeriod = '15'\n",
    "\n",
    "# # Get the stochastic df\n",
    "rates = getData(100, timePeriod, 'AUDUSD', timeDict) \n",
    "filteredDf = getAllInfo(rates, 14)\n",
    "print(filteredDf)"
   ]
  },
  {
   "cell_type": "code",
   "execution_count": 36,
   "metadata": {},
   "outputs": [
    {
     "name": "stdout",
     "output_type": "stream",
     "text": [
      "['GBPUSD', 'EURGBP', 'GBPCHF', 'GBPJPY', 'GBPAUD', 'GBPCAD', 'GBPNZD']\n"
     ]
    }
   ],
   "source": [
    "#Thresholds for schocastic\n",
    "threshUp = 80\n",
    "threshDown = 20\n",
    "\n",
    "# Get the signals required\n",
    "# signals = mt5.symbols_get(group=\"*GBP*, *JPY*, *EUR*, *AUD*, *GBP*, *CHF*, *NZD*, *CAD*\")\n",
    "signals = mt5.symbols_get(group='*GBP*')\n",
    "sigNames = [sig.name for sig in signals]\n",
    "print(sigNames)"
   ]
  },
  {
   "cell_type": "code",
   "execution_count": 27,
   "metadata": {},
   "outputs": [
    {
     "data": {
      "text/plain": [
       "['EURUSD', 'GBPUSD', 'USDCHF']"
      ]
     },
     "execution_count": 27,
     "metadata": {},
     "output_type": "execute_result"
    }
   ],
   "source": [
    "# sigNames = sigNames[0:3]\n",
    "# sigNames"
   ]
  },
  {
   "cell_type": "code",
   "execution_count": 39,
   "metadata": {},
   "outputs": [],
   "source": [
    "# Set up the variables required\n",
    "barsAfter = [3, 5, 7]\n",
    "resultDict = {}\n",
    "pips = 0.0005"
   ]
  },
  {
   "cell_type": "code",
   "execution_count": 40,
   "metadata": {
    "scrolled": false
   },
   "outputs": [
    {
     "name": "stdout",
     "output_type": "stream",
     "text": [
      "GBPUSD\n"
     ]
    },
    {
     "data": {
      "application/vnd.jupyter.widget-view+json": {
       "model_id": "a0a25d1a134a4825b5fe391fc5887f23",
       "version_major": 2,
       "version_minor": 0
      },
      "text/plain": [
       "HBox(children=(IntProgress(value=0, max=3), HTML(value='')))"
      ]
     },
     "metadata": {},
     "output_type": "display_data"
    },
    {
     "name": "stdout",
     "output_type": "stream",
     "text": [
      "15\n",
      "3504\n",
      "(1, 'Success')\n"
     ]
    },
    {
     "data": {
      "application/vnd.jupyter.widget-view+json": {
       "model_id": "60947d7d9ff0491dae2e114baaa3a386",
       "version_major": 2,
       "version_minor": 0
      },
      "text/plain": [
       "HBox(children=(IntProgress(value=1, bar_style='info', max=1), HTML(value='')))"
      ]
     },
     "metadata": {},
     "output_type": "display_data"
    },
    {
     "name": "stdout",
     "output_type": "stream",
     "text": [
      "\n",
      "30\n",
      "1752\n",
      "(1, 'Success')\n"
     ]
    },
    {
     "data": {
      "application/vnd.jupyter.widget-view+json": {
       "model_id": "bbc5ba3c4b7241338f986b1c17ec68b4",
       "version_major": 2,
       "version_minor": 0
      },
      "text/plain": [
       "HBox(children=(IntProgress(value=1, bar_style='info', max=1), HTML(value='')))"
      ]
     },
     "metadata": {},
     "output_type": "display_data"
    },
    {
     "name": "stdout",
     "output_type": "stream",
     "text": [
      "\n",
      "60\n",
      "876\n",
      "(1, 'Success')\n"
     ]
    },
    {
     "data": {
      "application/vnd.jupyter.widget-view+json": {
       "model_id": "15ce1a2b101642f58b937b622b429059",
       "version_major": 2,
       "version_minor": 0
      },
      "text/plain": [
       "HBox(children=(IntProgress(value=1, bar_style='info', max=1), HTML(value='')))"
      ]
     },
     "metadata": {},
     "output_type": "display_data"
    },
    {
     "name": "stdout",
     "output_type": "stream",
     "text": [
      "\n",
      "\n",
      "15 3 [False  True] [ 669 1040] 60.85430076067876\n",
      "15 5 [False  True] [ 599 1110] 64.95026331187829\n",
      "15 7 [False  True] [ 547 1162] 67.99297834991222\n",
      "\n",
      "\n",
      "30 3 [False  True] [306 538] 63.74407582938388\n",
      "30 5 [False  True] [288 556] 65.87677725118483\n",
      "30 7 [False  True] [271 573] 67.89099526066352\n",
      "\n",
      "\n",
      "60 3 [False  True] [137 281] 67.22488038277513\n",
      "60 5 [False  True] [116 302] 72.24880382775119\n",
      "60 7 [False  True] [ 98 320] 76.55502392344498\n",
      "\n",
      "\n",
      "EURGBP\n"
     ]
    },
    {
     "data": {
      "application/vnd.jupyter.widget-view+json": {
       "model_id": "3c6e2cc1afa54df8bb4315a2ca5395b6",
       "version_major": 2,
       "version_minor": 0
      },
      "text/plain": [
       "HBox(children=(IntProgress(value=0, max=3), HTML(value='')))"
      ]
     },
     "metadata": {},
     "output_type": "display_data"
    },
    {
     "name": "stdout",
     "output_type": "stream",
     "text": [
      "15\n",
      "3504\n",
      "(1, 'Success')\n"
     ]
    },
    {
     "data": {
      "application/vnd.jupyter.widget-view+json": {
       "model_id": "34f12c7502ec414cbc2ff242eb475fb8",
       "version_major": 2,
       "version_minor": 0
      },
      "text/plain": [
       "HBox(children=(IntProgress(value=1, bar_style='info', max=1), HTML(value='')))"
      ]
     },
     "metadata": {},
     "output_type": "display_data"
    },
    {
     "name": "stdout",
     "output_type": "stream",
     "text": [
      "\n",
      "30\n",
      "1752\n",
      "(1, 'Success')\n"
     ]
    },
    {
     "data": {
      "application/vnd.jupyter.widget-view+json": {
       "model_id": "294be63999ad4a7288259845a860a847",
       "version_major": 2,
       "version_minor": 0
      },
      "text/plain": [
       "HBox(children=(IntProgress(value=1, bar_style='info', max=1), HTML(value='')))"
      ]
     },
     "metadata": {},
     "output_type": "display_data"
    },
    {
     "name": "stdout",
     "output_type": "stream",
     "text": [
      "\n",
      "60\n",
      "876\n",
      "(1, 'Success')\n"
     ]
    },
    {
     "data": {
      "application/vnd.jupyter.widget-view+json": {
       "model_id": "c229c1b0f1e0406090be2d98356b8b37",
       "version_major": 2,
       "version_minor": 0
      },
      "text/plain": [
       "HBox(children=(IntProgress(value=1, bar_style='info', max=1), HTML(value='')))"
      ]
     },
     "metadata": {},
     "output_type": "display_data"
    },
    {
     "name": "stdout",
     "output_type": "stream",
     "text": [
      "\n",
      "\n",
      "15 3 [False  True] [812 833] 50.638297872340424\n",
      "15 5 [False  True] [740 905] 55.01519756838906\n",
      "15 7 [False  True] [674 971] 59.027355623100306\n",
      "\n",
      "\n",
      "30 3 [False  True] [321 437] 57.65171503957783\n",
      "30 5 [False  True] [295 463] 61.08179419525066\n",
      "30 7 [False  True] [276 482] 63.58839050131926\n",
      "\n",
      "\n",
      "60 3 [False  True] [133 253] 65.5440414507772\n",
      "60 5 [False  True] [126 260] 67.35751295336787\n",
      "60 7 [False  True] [118 268] 69.43005181347151\n",
      "\n",
      "\n",
      "GBPCHF\n"
     ]
    },
    {
     "data": {
      "application/vnd.jupyter.widget-view+json": {
       "model_id": "aae30162a8614d298e1e1284ed95d5ae",
       "version_major": 2,
       "version_minor": 0
      },
      "text/plain": [
       "HBox(children=(IntProgress(value=0, max=3), HTML(value='')))"
      ]
     },
     "metadata": {},
     "output_type": "display_data"
    },
    {
     "name": "stdout",
     "output_type": "stream",
     "text": [
      "15\n",
      "3504\n",
      "(1, 'Success')\n"
     ]
    },
    {
     "data": {
      "application/vnd.jupyter.widget-view+json": {
       "model_id": "49a6951fc8474c769a1de31b39781713",
       "version_major": 2,
       "version_minor": 0
      },
      "text/plain": [
       "HBox(children=(IntProgress(value=1, bar_style='info', max=1), HTML(value='')))"
      ]
     },
     "metadata": {},
     "output_type": "display_data"
    },
    {
     "name": "stdout",
     "output_type": "stream",
     "text": [
      "\n",
      "30\n",
      "1752\n",
      "(1, 'Success')\n"
     ]
    },
    {
     "data": {
      "application/vnd.jupyter.widget-view+json": {
       "model_id": "7d0e1b7b985b4c519e1781214efdcadb",
       "version_major": 2,
       "version_minor": 0
      },
      "text/plain": [
       "HBox(children=(IntProgress(value=1, bar_style='info', max=1), HTML(value='')))"
      ]
     },
     "metadata": {},
     "output_type": "display_data"
    },
    {
     "name": "stdout",
     "output_type": "stream",
     "text": [
      "\n",
      "60\n",
      "876\n",
      "(1, 'Success')\n"
     ]
    },
    {
     "data": {
      "application/vnd.jupyter.widget-view+json": {
       "model_id": "a72aa2b645714d5595d9c290b245d318",
       "version_major": 2,
       "version_minor": 0
      },
      "text/plain": [
       "HBox(children=(IntProgress(value=1, bar_style='info', max=1), HTML(value='')))"
      ]
     },
     "metadata": {},
     "output_type": "display_data"
    },
    {
     "name": "stdout",
     "output_type": "stream",
     "text": [
      "\n",
      "\n",
      "15 3 [False  True] [ 679 1021] 60.05882352941177\n",
      "15 5 [False  True] [ 607 1093] 64.29411764705883\n",
      "15 7 [False  True] [ 544 1156] 68.0\n",
      "\n",
      "\n",
      "30 3 [False  True] [339 422] 55.453350854139295\n",
      "30 5 [False  True] [308 453] 59.526938239159\n",
      "30 7 [False  True] [279 482] 63.337713534822605\n",
      "\n",
      "\n",
      "60 3 [False  True] [129 265] 67.25888324873097\n",
      "60 5 [False  True] [114 280] 71.06598984771574\n",
      "60 7 [False  True] [104 290] 73.60406091370558\n",
      "\n",
      "\n",
      "GBPJPY\n"
     ]
    },
    {
     "data": {
      "application/vnd.jupyter.widget-view+json": {
       "model_id": "03c0fad20a68474194c7d56b80f1d612",
       "version_major": 2,
       "version_minor": 0
      },
      "text/plain": [
       "HBox(children=(IntProgress(value=0, max=3), HTML(value='')))"
      ]
     },
     "metadata": {},
     "output_type": "display_data"
    },
    {
     "name": "stdout",
     "output_type": "stream",
     "text": [
      "15\n",
      "3504\n",
      "(1, 'Success')\n"
     ]
    },
    {
     "data": {
      "application/vnd.jupyter.widget-view+json": {
       "model_id": "3b369f4a2b544004b6d7e0f117c93a81",
       "version_major": 2,
       "version_minor": 0
      },
      "text/plain": [
       "HBox(children=(IntProgress(value=1, bar_style='info', max=1), HTML(value='')))"
      ]
     },
     "metadata": {},
     "output_type": "display_data"
    },
    {
     "name": "stdout",
     "output_type": "stream",
     "text": [
      "\n",
      "30\n",
      "1752\n",
      "(1, 'Success')\n"
     ]
    },
    {
     "data": {
      "application/vnd.jupyter.widget-view+json": {
       "model_id": "fbd3a9e867d148a19ff531aec281ac32",
       "version_major": 2,
       "version_minor": 0
      },
      "text/plain": [
       "HBox(children=(IntProgress(value=1, bar_style='info', max=1), HTML(value='')))"
      ]
     },
     "metadata": {},
     "output_type": "display_data"
    },
    {
     "name": "stdout",
     "output_type": "stream",
     "text": [
      "\n",
      "60\n",
      "876\n",
      "(1, 'Success')\n"
     ]
    },
    {
     "data": {
      "application/vnd.jupyter.widget-view+json": {
       "model_id": "92432690db5046218e83a951d1bdcae2",
       "version_major": 2,
       "version_minor": 0
      },
      "text/plain": [
       "HBox(children=(IntProgress(value=1, bar_style='info', max=1), HTML(value='')))"
      ]
     },
     "metadata": {},
     "output_type": "display_data"
    },
    {
     "name": "stdout",
     "output_type": "stream",
     "text": [
      "\n",
      "\n",
      "15 3 [False  True] [ 477 1169] 71.0206561360875\n",
      "15 5 [False  True] [ 415 1231] 74.78736330498177\n",
      "15 7 [False  True] [ 361 1285] 78.06804374240583\n",
      "\n",
      "\n",
      "30 3 [False  True] [229 604] 72.50900360144058\n",
      "30 5 [False  True] [199 634] 76.11044417767107\n",
      "30 7 [False  True] [186 647] 77.67106842737095\n",
      "\n",
      "\n",
      "60 3 [False  True] [127 255] 66.75392670157068\n",
      "60 5 [False  True] [112 270] 70.68062827225131\n",
      "60 7 [False  True] [107 275] 71.98952879581152\n",
      "\n",
      "\n",
      "GBPAUD\n"
     ]
    },
    {
     "data": {
      "application/vnd.jupyter.widget-view+json": {
       "model_id": "4dbd1c84935e4b4f912cc98b6aff0bce",
       "version_major": 2,
       "version_minor": 0
      },
      "text/plain": [
       "HBox(children=(IntProgress(value=0, max=3), HTML(value='')))"
      ]
     },
     "metadata": {},
     "output_type": "display_data"
    },
    {
     "name": "stdout",
     "output_type": "stream",
     "text": [
      "15\n",
      "3504\n",
      "(1, 'Success')\n"
     ]
    },
    {
     "data": {
      "application/vnd.jupyter.widget-view+json": {
       "model_id": "03bf11c035c74945833321679c72745e",
       "version_major": 2,
       "version_minor": 0
      },
      "text/plain": [
       "HBox(children=(IntProgress(value=1, bar_style='info', max=1), HTML(value='')))"
      ]
     },
     "metadata": {},
     "output_type": "display_data"
    },
    {
     "name": "stdout",
     "output_type": "stream",
     "text": [
      "\n",
      "30\n",
      "1752\n",
      "(1, 'Success')\n"
     ]
    },
    {
     "data": {
      "application/vnd.jupyter.widget-view+json": {
       "model_id": "dc273a4b75e049d1be53abf8061fa1ff",
       "version_major": 2,
       "version_minor": 0
      },
      "text/plain": [
       "HBox(children=(IntProgress(value=1, bar_style='info', max=1), HTML(value='')))"
      ]
     },
     "metadata": {},
     "output_type": "display_data"
    },
    {
     "name": "stdout",
     "output_type": "stream",
     "text": [
      "\n",
      "60\n",
      "876\n",
      "(1, 'Success')\n"
     ]
    },
    {
     "data": {
      "application/vnd.jupyter.widget-view+json": {
       "model_id": "9aa311e05ec74b6c8bdfdfbbf2415da0",
       "version_major": 2,
       "version_minor": 0
      },
      "text/plain": [
       "HBox(children=(IntProgress(value=1, bar_style='info', max=1), HTML(value='')))"
      ]
     },
     "metadata": {},
     "output_type": "display_data"
    },
    {
     "name": "stdout",
     "output_type": "stream",
     "text": [
      "\n",
      "\n",
      "15 3 [False  True] [676 974] 59.03030303030303\n",
      "15 5 [False  True] [ 611 1039] 62.96969696969696\n",
      "15 7 [False  True] [ 568 1082] 65.57575757575758\n",
      "\n",
      "\n",
      "30 3 [False  True] [354 455] 56.24227441285537\n",
      "30 5 [False  True] [327 482] 59.5797280593325\n",
      "30 7 [False  True] [304 505] 62.422744128553774\n",
      "\n",
      "\n",
      "60 3 [False  True] [154 255] 62.34718826405869\n",
      "60 5 [False  True] [142 267] 65.28117359413203\n",
      "60 7 [False  True] [131 278] 67.97066014669927\n",
      "\n",
      "\n",
      "GBPCAD\n"
     ]
    },
    {
     "data": {
      "application/vnd.jupyter.widget-view+json": {
       "model_id": "7fe0477b78654b85a24f6e0a859130e7",
       "version_major": 2,
       "version_minor": 0
      },
      "text/plain": [
       "HBox(children=(IntProgress(value=0, max=3), HTML(value='')))"
      ]
     },
     "metadata": {},
     "output_type": "display_data"
    },
    {
     "name": "stdout",
     "output_type": "stream",
     "text": [
      "15\n",
      "3504\n",
      "(1, 'Success')\n"
     ]
    },
    {
     "data": {
      "application/vnd.jupyter.widget-view+json": {
       "model_id": "542f9c17a8564d7388f6db197d0eb5d4",
       "version_major": 2,
       "version_minor": 0
      },
      "text/plain": [
       "HBox(children=(IntProgress(value=1, bar_style='info', max=1), HTML(value='')))"
      ]
     },
     "metadata": {},
     "output_type": "display_data"
    },
    {
     "name": "stdout",
     "output_type": "stream",
     "text": [
      "\n",
      "30\n",
      "1752\n",
      "(1, 'Success')\n"
     ]
    },
    {
     "data": {
      "application/vnd.jupyter.widget-view+json": {
       "model_id": "3630ca86639844729f9eab1dc78a59b5",
       "version_major": 2,
       "version_minor": 0
      },
      "text/plain": [
       "HBox(children=(IntProgress(value=1, bar_style='info', max=1), HTML(value='')))"
      ]
     },
     "metadata": {},
     "output_type": "display_data"
    },
    {
     "name": "stdout",
     "output_type": "stream",
     "text": [
      "\n",
      "60\n",
      "876\n",
      "(1, 'Success')\n"
     ]
    },
    {
     "data": {
      "application/vnd.jupyter.widget-view+json": {
       "model_id": "b86d8a6aa1d04cea87346ec44611ccaf",
       "version_major": 2,
       "version_minor": 0
      },
      "text/plain": [
       "HBox(children=(IntProgress(value=1, bar_style='info', max=1), HTML(value='')))"
      ]
     },
     "metadata": {},
     "output_type": "display_data"
    },
    {
     "name": "stdout",
     "output_type": "stream",
     "text": [
      "\n",
      "\n",
      "15 3 [False  True] [606 997] 62.19588271990018\n",
      "15 5 [False  True] [ 554 1049] 65.4398003742982\n",
      "15 7 [False  True] [ 519 1084] 67.6232064878353\n",
      "\n",
      "\n",
      "30 3 [False  True] [318 450] 58.59375\n",
      "30 5 [False  True] [297 471] 61.328125\n",
      "30 7 [False  True] [283 485] 63.151041666666664\n",
      "\n",
      "\n",
      "60 3 [False  True] [105 269] 71.92513368983957\n",
      "60 5 [False  True] [ 92 282] 75.40106951871658\n",
      "60 7 [False  True] [ 88 286] 76.47058823529412\n",
      "\n",
      "\n",
      "GBPNZD\n"
     ]
    },
    {
     "data": {
      "application/vnd.jupyter.widget-view+json": {
       "model_id": "421a4ce631934483a877d19ebf1f547c",
       "version_major": 2,
       "version_minor": 0
      },
      "text/plain": [
       "HBox(children=(IntProgress(value=0, max=3), HTML(value='')))"
      ]
     },
     "metadata": {},
     "output_type": "display_data"
    },
    {
     "name": "stdout",
     "output_type": "stream",
     "text": [
      "15\n",
      "3504\n",
      "(1, 'Success')\n"
     ]
    },
    {
     "data": {
      "application/vnd.jupyter.widget-view+json": {
       "model_id": "9ea9de7da3eb47888310bf3d65f6e5c2",
       "version_major": 2,
       "version_minor": 0
      },
      "text/plain": [
       "HBox(children=(IntProgress(value=1, bar_style='info', max=1), HTML(value='')))"
      ]
     },
     "metadata": {},
     "output_type": "display_data"
    },
    {
     "name": "stdout",
     "output_type": "stream",
     "text": [
      "\n",
      "30\n",
      "1752\n",
      "(1, 'Success')\n"
     ]
    },
    {
     "data": {
      "application/vnd.jupyter.widget-view+json": {
       "model_id": "c7586ca6bb04424da4f3e6aae985c4af",
       "version_major": 2,
       "version_minor": 0
      },
      "text/plain": [
       "HBox(children=(IntProgress(value=1, bar_style='info', max=1), HTML(value='')))"
      ]
     },
     "metadata": {},
     "output_type": "display_data"
    },
    {
     "name": "stdout",
     "output_type": "stream",
     "text": [
      "\n",
      "60\n",
      "876\n",
      "(1, 'Success')\n"
     ]
    },
    {
     "data": {
      "application/vnd.jupyter.widget-view+json": {
       "model_id": "5e68a264b3ee48ff917bc739d478122b",
       "version_major": 2,
       "version_minor": 0
      },
      "text/plain": [
       "HBox(children=(IntProgress(value=1, bar_style='info', max=1), HTML(value='')))"
      ]
     },
     "metadata": {},
     "output_type": "display_data"
    },
    {
     "name": "stdout",
     "output_type": "stream",
     "text": [
      "\n",
      "\n",
      "15 3 [False  True] [599 976] 61.968253968253975\n",
      "15 5 [False  True] [ 529 1046] 66.41269841269842\n",
      "15 7 [False  True] [ 472 1103] 70.03174603174604\n",
      "\n",
      "\n",
      "30 3 [False  True] [332 438] 56.88311688311688\n",
      "30 5 [False  True] [304 466] 60.51948051948052\n",
      "30 7 [False  True] [284 486] 63.116883116883116\n",
      "\n",
      "\n",
      "60 3 [False  True] [139 252] 64.45012787723785\n",
      "60 5 [False  True] [128 263] 67.26342710997443\n",
      "60 7 [False  True] [119 272] 69.56521739130434\n",
      "\n",
      "\n"
     ]
    }
   ],
   "source": [
    "for sig in sigNames:\n",
    "    print(sig)\n",
    "    \n",
    "    for key, val in tqdm(timeDict.items()):\n",
    "        print(key)\n",
    "\n",
    "        resultDict[key] = defaultdict(list)\n",
    "\n",
    "        numYears = 0.1\n",
    "        numBefore = int(60/int(key) * 24 * 365 * numYears) # Data for one year \n",
    "        print(numBefore)\n",
    "        \n",
    "        rates = getData(numBefore, key, sig, timeDict) \n",
    "        filteredDf = getAllInfo(rates, 14)\n",
    "        print(mt5.last_error())       \n",
    "        \n",
    "        ## CHECK IF THERE IS A WIN AFTER BREACHING STOCHASTIC:\n",
    "        for index, row in tqdm(filteredDf.iterrows()):\n",
    "            if index > len(filteredDf)-max(barsAfter)-1:\n",
    "                 continue\n",
    "\n",
    "            # Current bar has closed outside upper threshold\n",
    "            if row.stok > threshUp or row.stod > threshUp:\n",
    "#                 print(pd.to_datetime(row.time, unit='s'))\n",
    "                for n in barsAfter:\n",
    "                    nextBars = filteredDf.iloc[index+1:index+n+1]\n",
    "\n",
    "                    if min(nextBars.low) < (row.close - pips):\n",
    "                        resultDict[key][n].append(True)\n",
    "                    else:\n",
    "                        resultDict[key][n].append(False)\n",
    "\n",
    "            elif row.stok < threshDown or row.stod < threshDown:\n",
    "\n",
    "                for n in barsAfter:\n",
    "                    nextBars = filteredDf.iloc[index+1:index+n+1]\n",
    "\n",
    "                    if max(nextBars.high) > (row.close + pips):\n",
    "                        resultDict[key][n].append(True)\n",
    "                    else:\n",
    "                        resultDict[key][n].append(False)\n",
    "\n",
    "#     print('timeframe', 'bars_after', 'truth_values', 'percentage_true')\n",
    "    for key, val in resultDict.items():\n",
    "        for i, j in val.items():\n",
    "            n, c = np.unique(j, return_counts=True)\n",
    "            print(key, i, n, c, c[1]/sum(c)*100)\n",
    "        print('\\n')"
   ]
  },
  {
   "cell_type": "code",
   "execution_count": null,
   "metadata": {},
   "outputs": [],
   "source": []
  }
 ],
 "metadata": {
  "kernelspec": {
   "display_name": "Python 3",
   "language": "python",
   "name": "python3"
  },
  "language_info": {
   "codemirror_mode": {
    "name": "ipython",
    "version": 3
   },
   "file_extension": ".py",
   "mimetype": "text/x-python",
   "name": "python",
   "nbconvert_exporter": "python",
   "pygments_lexer": "ipython3",
   "version": "3.7.4"
  }
 },
 "nbformat": 4,
 "nbformat_minor": 4
}
