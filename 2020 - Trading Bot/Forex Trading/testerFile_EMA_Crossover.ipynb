{
 "cells": [
  {
   "cell_type": "code",
   "execution_count": 21,
   "metadata": {},
   "outputs": [],
   "source": [
    "import datetime\n",
    "import MetaTrader5 as mt5\n",
    "import numpy as np\n",
    "import pandas as pd\n",
    "from datetime import datetime as dt\n",
    "import numba as nb\n",
    "from collections import defaultdict \n",
    "from tqdm.notebook import tqdm\n",
    "\n",
    "import matplotlib.pyplot as plt"
   ]
  },
  {
   "cell_type": "code",
   "execution_count": 22,
   "metadata": {},
   "outputs": [
    {
     "name": "stdout",
     "output_type": "stream",
     "text": [
      "(1, 'Success')\n"
     ]
    }
   ],
   "source": [
    "if not mt5.initialize():\n",
    "    print(mt5.last_error())\n",
    "    mt5.shutdown()\n",
    "else:\n",
    "    authorized=mt5.login(35737953, password=\"fdphx7cm\", server=\"MetaQuotes-Demo\")\n",
    "    print(mt5.last_error())"
   ]
  },
  {
   "cell_type": "code",
   "execution_count": 23,
   "metadata": {},
   "outputs": [],
   "source": [
    "def getData(numBefore, timePeriod, signal, timeDict):\n",
    "    rates = mt5.copy_rates_from_pos(signal, timeDict[timePeriod], 1, numBefore)       \n",
    "    ratesDf = pd.DataFrame(rates)\n",
    "    return ratesDf\n",
    "\n",
    "def getEMA(closeVals, period):\n",
    "    return closeVals.ewm(span=period).mean()\n",
    "\n",
    "def getAllInfo(rates, n1, n2):\n",
    "    ema_1 = getEMA(rates.close, n1)\n",
    "    ema_2 = getEMA(rates.close, n2)\n",
    "    \n",
    "    outDf = rates.copy()\n",
    "    outDf[f'ema{n1}'] = ema_1\n",
    "    outDf[f'ema{n2}'] = ema_2\n",
    "    \n",
    "    outDf.drop(columns=['tick_volume', 'spread', 'real_volume'], inplace=True)\n",
    "    finalOut = outDf.copy()\n",
    "    \n",
    "    return finalOut"
   ]
  },
  {
   "cell_type": "code",
   "execution_count": 24,
   "metadata": {},
   "outputs": [
    {
     "name": "stdout",
     "output_type": "stream",
     "text": [
      "          time     open     high      low    close      ema8     ema13\n",
      "0   1607080500  0.74209  0.74220  0.74175  0.74183  0.741830  0.741830\n",
      "1   1607081400  0.74183  0.74259  0.74182  0.74249  0.742201  0.742185\n",
      "2   1607082300  0.74249  0.74295  0.74227  0.74267  0.742398  0.742372\n",
      "3   1607083200  0.74266  0.74267  0.74197  0.74197  0.742248  0.742247\n",
      "4   1607084100  0.74196  0.74232  0.74158  0.74191  0.742143  0.742158\n",
      "5   1607085000  0.74191  0.74204  0.74169  0.74192  0.742079  0.742101\n",
      "6   1607085900  0.74193  0.74253  0.74166  0.74248  0.742187  0.742183\n",
      "7   1607086800  0.74248  0.74268  0.74207  0.74235  0.742229  0.742217\n",
      "8   1607087700  0.74235  0.74242  0.74171  0.74186  0.742137  0.742149\n",
      "9   1607088600  0.74188  0.74229  0.74168  0.74221  0.742155  0.742160\n",
      "10  1607089500  0.74221  0.74261  0.74192  0.74204  0.742128  0.742139\n",
      "11  1607090400  0.74203  0.74251  0.74184  0.74250  0.742215  0.742200\n",
      "12  1607091300  0.74249  0.74278  0.74234  0.74257  0.742297  0.742261\n",
      "13  1607092200  0.74258  0.74274  0.74203  0.74225  0.742286  0.742259\n",
      "14  1607093100  0.74225  0.74228  0.74183  0.74195  0.742210  0.742210\n",
      "15  1607094000  0.74194  0.74215  0.74162  0.74197  0.742155  0.742173\n",
      "16  1607094900  0.74197  0.74209  0.74151  0.74156  0.742021  0.742078\n",
      "17  1607095800  0.74156  0.74301  0.74122  0.74227  0.742077  0.742108\n",
      "18  1607096700  0.74227  0.74238  0.74099  0.74209  0.742080  0.742105\n",
      "19  1607097600  0.74210  0.74293  0.74184  0.74292  0.742268  0.742227\n",
      "20  1607098500  0.74294  0.74367  0.74279  0.74294  0.742418  0.742333\n",
      "21  1607099400  0.74295  0.74407  0.74275  0.74387  0.742742  0.742560\n",
      "22  1607100300  0.74387  0.74413  0.74346  0.74375  0.742967  0.742735\n",
      "23  1607101200  0.74377  0.74396  0.74325  0.74342  0.743068  0.742836\n",
      "24  1607102100  0.74341  0.74362  0.74260  0.74280  0.743008  0.742830\n",
      "25  1607103000  0.74280  0.74369  0.74271  0.74346  0.743109  0.742922\n",
      "26  1607103900  0.74346  0.74350  0.74270  0.74327  0.743145  0.742972\n",
      "27  1607104800  0.74326  0.74375  0.74302  0.74366  0.743259  0.743072\n",
      "28  1607105700  0.74366  0.74367  0.74307  0.74344  0.743299  0.743125\n",
      "29  1607106600  0.74343  0.74393  0.74334  0.74375  0.743400  0.743215\n",
      "30  1607107500  0.74375  0.74400  0.74364  0.74373  0.743473  0.743289\n",
      "31  1607108400  0.74373  0.74407  0.74343  0.74344  0.743466  0.743311\n",
      "32  1607109300  0.74344  0.74371  0.74337  0.74353  0.743480  0.743343\n",
      "33  1607110200  0.74355  0.74370  0.74334  0.74335  0.743451  0.743344\n",
      "34  1607111100  0.74335  0.74355  0.74321  0.74354  0.743471  0.743372\n",
      "35  1607112000  0.74355  0.74392  0.74345  0.74387  0.743560  0.743443\n",
      "36  1607112900  0.74387  0.74431  0.74386  0.74417  0.743695  0.743547\n",
      "37  1607113800  0.74416  0.74437  0.74394  0.74396  0.743754  0.743607\n",
      "38  1607114700  0.74395  0.74404  0.74370  0.74370  0.743742  0.743620\n",
      "39  1607115600  0.74370  0.74413  0.74361  0.74392  0.743782  0.743663\n",
      "40  1607116500  0.74393  0.74401  0.74358  0.74368  0.743759  0.743665\n",
      "41  1607117400  0.74365  0.74381  0.74331  0.74343  0.743686  0.743632\n",
      "42  1607118300  0.74342  0.74395  0.74323  0.74390  0.743733  0.743670\n",
      "43  1607119200  0.74390  0.74390  0.74344  0.74349  0.743679  0.743644\n",
      "44  1607120100  0.74348  0.74359  0.74334  0.74349  0.743637  0.743622\n",
      "45  1607121000  0.74349  0.74354  0.74306  0.74327  0.743556  0.743572\n",
      "46  1607121900  0.74326  0.74327  0.74261  0.74319  0.743474  0.743517\n",
      "47  1607122800  0.74320  0.74332  0.74294  0.74295  0.743358  0.743436\n",
      "48  1607123700  0.74295  0.74296  0.74276  0.74286  0.743247  0.743354\n",
      "49  1607124600  0.74286  0.74298  0.74265  0.74273  0.743132  0.743265\n"
     ]
    }
   ],
   "source": [
    "timeDict = {'15': mt5.TIMEFRAME_M15, '30': mt5.TIMEFRAME_M30, '60': mt5.TIMEFRAME_H1}\n",
    "timePeriod = '15'\n",
    "\n",
    "a = getData(50, timePeriod, 'AUDUSD', timeDict)\n",
    "print(getAllInfo(a, 8, 13))"
   ]
  },
  {
   "cell_type": "markdown",
   "metadata": {},
   "source": [
    "# Check ema crossover for all signals"
   ]
  },
  {
   "cell_type": "code",
   "execution_count": 25,
   "metadata": {},
   "outputs": [
    {
     "name": "stdout",
     "output_type": "stream",
     "text": [
      "['EURUSD', 'GBPUSD', 'USDCHF', 'USDJPY', 'AUDUSD', 'NZDUSD', 'USDCAD', 'AUDCAD', 'AUDCHF', 'AUDJPY', 'AUDNZD', 'CADCHF', 'CADJPY', 'CHFJPY', 'EURAUD', 'EURCAD', 'EURCHF', 'EURCZK', 'EURDKK', 'EURGBP', 'EURHKD', 'EURHUF', 'EURJPY', 'EURNOK', 'EURNZD', 'EURPLN', 'EURRUR', 'EURRUB', 'EURSEK', 'EURTRY', 'EURZAR', 'GBPAUD', 'GBPCHF', 'GBPJPY', 'XAUEUR', 'XAUAUD', 'XAGEUR', 'GBPCAD', 'GBPNOK', 'GBPNZD', 'GBPPLN', 'GBPSEK', 'GBPSGD', 'GBPZAR', 'NZDCAD', 'NZDCHF', 'NZDJPY', 'NZDSGD', 'SGDJPY', 'BTCEUR', 'BTCJPY', 'LTCEUR', 'LTCJPY', 'EURMXN', 'GBPMXN', 'CADMXN', 'CHFMXN', 'MXNJPY', 'NZDMXN']\n"
     ]
    }
   ],
   "source": [
    "# Get the signals required\n",
    "signals = mt5.symbols_get(group=\"*GBP*, *JPY*, *EUR*, *AUD*, *GBP*, *CHF*, *NZD*, *CAD*\")\n",
    "\n",
    "sigNames = [sig.name for sig in signals]\n",
    "print(sigNames)"
   ]
  },
  {
   "cell_type": "code",
   "execution_count": 26,
   "metadata": {},
   "outputs": [],
   "source": [
    "# sigNames = sigNames[0:3]\n",
    "# sigNames"
   ]
  },
  {
   "cell_type": "code",
   "execution_count": 41,
   "metadata": {},
   "outputs": [],
   "source": [
    "# Set up the variables required\n",
    "barsAfter = [3, 5, 10]\n",
    "resultDict = {}\n",
    "\n",
    "## Get the values and compare with real data to validate\n",
    "timeDict = {'15': mt5.TIMEFRAME_M15, '30': mt5.TIMEFRAME_M30, '60': mt5.TIMEFRAME_H1}\n",
    "timePeriod = '15'\n",
    "\n",
    "p = 5\n",
    "pips = 0.0001*p\n",
    "\n",
    "n1 = 8\n",
    "n2 = 13"
   ]
  },
  {
   "cell_type": "code",
   "execution_count": 42,
   "metadata": {},
   "outputs": [],
   "source": [
    "def plot_line(ax, ob):\n",
    "    x, y = ob.xy\n",
    "    ax.plot(x, y, alpha=0.7, linewidth=3, solid_capstyle='round', zorder=2)"
   ]
  },
  {
   "cell_type": "code",
   "execution_count": 44,
   "metadata": {
    "scrolled": false
   },
   "outputs": [
    {
     "name": "stdout",
     "output_type": "stream",
     "text": [
      "GBPUSD\n"
     ]
    },
    {
     "data": {
      "application/vnd.jupyter.widget-view+json": {
       "model_id": "28b6dac096e940a591c21a1895017703",
       "version_major": 2,
       "version_minor": 0
      },
      "text/plain": [
       "HBox(children=(FloatProgress(value=0.0, max=3.0), HTML(value='')))"
      ]
     },
     "metadata": {},
     "output_type": "display_data"
    },
    {
     "name": "stdout",
     "output_type": "stream",
     "text": [
      "15\n",
      "35040\n",
      "(1, 'Success')\n"
     ]
    },
    {
     "data": {
      "application/vnd.jupyter.widget-view+json": {
       "model_id": "7cf5da13b8284b5c82da03c3b55afe8f",
       "version_major": 2,
       "version_minor": 0
      },
      "text/plain": [
       "HBox(children=(FloatProgress(value=1.0, bar_style='info', max=1.0), HTML(value='')))"
      ]
     },
     "metadata": {},
     "output_type": "display_data"
    },
    {
     "name": "stdout",
     "output_type": "stream",
     "text": [
      "\n",
      "30\n",
      "17520\n",
      "(1, 'Success')\n"
     ]
    },
    {
     "data": {
      "application/vnd.jupyter.widget-view+json": {
       "model_id": "59e3f934bccc4b44b581a0f12e0bcce9",
       "version_major": 2,
       "version_minor": 0
      },
      "text/plain": [
       "HBox(children=(FloatProgress(value=1.0, bar_style='info', max=1.0), HTML(value='')))"
      ]
     },
     "metadata": {},
     "output_type": "display_data"
    },
    {
     "name": "stdout",
     "output_type": "stream",
     "text": [
      "\n",
      "60\n",
      "8760\n",
      "(1, 'Success')\n"
     ]
    },
    {
     "data": {
      "application/vnd.jupyter.widget-view+json": {
       "model_id": "ef76c758175d41988b58f02fd6dcf0f6",
       "version_major": 2,
       "version_minor": 0
      },
      "text/plain": [
       "HBox(children=(FloatProgress(value=1.0, bar_style='info', max=1.0), HTML(value='')))"
      ]
     },
     "metadata": {},
     "output_type": "display_data"
    },
    {
     "name": "stdout",
     "output_type": "stream",
     "text": [
      "\n",
      "\n",
      "15 3 [False  True] [1006 1177] 53.916628492899676\n",
      "15 5 [False  True] [ 844 1339] 61.33760879523591\n",
      "15 10 [False  True] [ 611 1572] 72.01099404489236\n",
      "\n",
      "\n",
      "30 3 [False  True] [338 709] 67.71728748806113\n",
      "30 5 [False  True] [256 791] 75.54918815663801\n",
      "30 10 [False  True] [174 873] 83.3810888252149\n",
      "\n",
      "\n",
      "60 3 [False  True] [ 80 404] 83.47107438016529\n",
      "60 5 [False  True] [ 59 425] 87.80991735537191\n",
      "60 10 [False  True] [ 36 448] 92.56198347107438\n",
      "\n",
      "\n"
     ]
    }
   ],
   "source": [
    "from shapely.geometry import LineString\n",
    "\n",
    "sigNames = ['GBPUSD']\n",
    "for sig in sigNames:\n",
    "    print(sig)\n",
    "    \n",
    "    for key, val in tqdm(timeDict.items()):\n",
    "        print(key)\n",
    "\n",
    "        resultDict[key] = defaultdict(list)\n",
    "\n",
    "        numYears = 1\n",
    "        numBefore = int(60/int(key) * 24 * 365 * numYears) # Data for one year \n",
    "        print(numBefore)\n",
    "        \n",
    "        rates = getData(numBefore, key, sig, timeDict) \n",
    "        filteredDf = getAllInfo(rates, n1, n2)\n",
    "        print(mt5.last_error())       \n",
    "        \n",
    "        ## CHECK IF THERE IS A WIN AFTER DOING A CROSS UP\n",
    "        for index, row in tqdm(filteredDf.iterrows()):\n",
    "            if index > len(filteredDf)-max(barsAfter)-1:\n",
    "                 continue\n",
    "    \n",
    "            prevBar = filteredDf.iloc[index-1]\n",
    "            \n",
    "            # need to check if two lines intersect one another\n",
    "            l1 = LineString([(0, prevBar[f'ema{n1}']), (1, row[f'ema{n1}'])])\n",
    "            l2 = LineString([(0, prevBar[f'ema{n2}']), (1, row[f'ema{n2}'])])\n",
    "\n",
    "            if l1.intersects(l2):\n",
    "#                 print(pd.to_datetime(row.time, unit='s'))\n",
    "\n",
    "#                 fig = plt.figure()\n",
    "#                 ax = fig.add_subplot(111)\n",
    "                \n",
    "#                 plot_line(ax, l1)\n",
    "#                 plot_line(ax, l2)\n",
    "#                 plt.show()\n",
    "\n",
    "                # Check up trend\n",
    "                if row[f'ema{n1}'] > row[f'ema{n2}']:\n",
    "                \n",
    "                    for n in barsAfter:\n",
    "                        nextBars = filteredDf.iloc[index+1:index+n+1]\n",
    "\n",
    "                        if max(nextBars.high) > (row.close + pips):\n",
    "                            resultDict[key][n].append(True)\n",
    "                        else:\n",
    "                            resultDict[key][n].append(False)\n",
    "                            \n",
    "                else:\n",
    "                    for n in barsAfter:\n",
    "                        nextBars = filteredDf.iloc[index+1:index+n+1]\n",
    "\n",
    "                        if min(nextBars.low) < (row.close - pips):\n",
    "                            resultDict[key][n].append(True)\n",
    "                        else:\n",
    "                            resultDict[key][n].append(False)\n",
    "\n",
    "#     print('timeframe', 'bars_after', 'truth_values', 'percentage_true')\n",
    "    for key, val in resultDict.items():\n",
    "        for i, j in val.items():\n",
    "            n, c = np.unique(j, return_counts=True)\n",
    "            print(key, i, n, c, c[1]/sum(c)*100)\n",
    "        print('\\n')"
   ]
  },
  {
   "cell_type": "code",
   "execution_count": null,
   "metadata": {},
   "outputs": [],
   "source": []
  }
 ],
 "metadata": {
  "kernelspec": {
   "display_name": "Python 3",
   "language": "python",
   "name": "python3"
  },
  "language_info": {
   "codemirror_mode": {
    "name": "ipython",
    "version": 3
   },
   "file_extension": ".py",
   "mimetype": "text/x-python",
   "name": "python",
   "nbconvert_exporter": "python",
   "pygments_lexer": "ipython3",
   "version": "3.7.6"
  }
 },
 "nbformat": 4,
 "nbformat_minor": 4
}
