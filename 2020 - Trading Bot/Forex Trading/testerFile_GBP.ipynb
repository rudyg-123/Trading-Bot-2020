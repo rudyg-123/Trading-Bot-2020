{
 "cells": [
  {
   "cell_type": "code",
   "execution_count": 2,
   "metadata": {},
   "outputs": [],
   "source": [
    "import datetime\n",
    "import MetaTrader5 as mt5\n",
    "import numpy as np\n",
    "import pandas as pd\n",
    "from datetime import datetime as dt\n",
    "import numba as nb\n",
    "from collections import defaultdict \n",
    "from tqdm.notebook import tqdm"
   ]
  },
  {
   "cell_type": "code",
   "execution_count": 3,
   "metadata": {},
   "outputs": [
    {
     "name": "stdout",
     "output_type": "stream",
     "text": [
      "(1, 'Success')\n"
     ]
    }
   ],
   "source": [
    "if not mt5.initialize():\n",
    "    print(mt5.last_error())\n",
    "    mt5.shutdown()\n",
    "else:\n",
    "    authorized=mt5.login(18676, password=\"aTOirs42\", server=\"GoMarkets-Demo\")\n",
    "    print(mt5.last_error())"
   ]
  },
  {
   "cell_type": "code",
   "execution_count": 4,
   "metadata": {},
   "outputs": [],
   "source": [
    "def getData(numBefore, timePeriod, signal, timeDict):\n",
    "    rates = mt5.copy_rates_from_pos(signal, timeDict[timePeriod], 0, numBefore)       \n",
    "    ratesDf = pd.DataFrame(rates)\n",
    "    return ratesDf\n",
    "\n",
    "# Give closePrices as an array\n",
    "def getBollBands(closePrices, period=20, numStd=2):\n",
    "    # Default values for bollinger bands = 20 for period & 2 for std\n",
    "    bands = {k:[] for k in ['topBand','bottomBand', 'mav']} # Set lists as defaults\n",
    "\n",
    "    for i in range(1, len(closePrices)+1):\n",
    "        if i < period:\n",
    "            currDat = closePrices[0:i]\n",
    "        else:\n",
    "            currDat = closePrices[i-period:i]\n",
    "\n",
    "        std = np.std(currDat)\n",
    "        mean = np.mean(currDat)\n",
    "\n",
    "        bands['topBand'].append(mean+numStd*std)\n",
    "        bands['bottomBand'].append(mean-numStd*std)\n",
    "        bands['mav'].append(mean)\n",
    "\n",
    "    # Remove the first n (period) of values as they are not accurate/just used for calculation\n",
    "    for key, val in bands.items():\n",
    "        tempVal = val.copy()\n",
    "        tempVal[:period] = [float('nan')]*period\n",
    "        bands[key] = tempVal\n",
    "\n",
    "    bollDf = pd.DataFrame.from_dict(bands)\n",
    "    return bollDf\n",
    "\n",
    "@nb.jit(fastmath=True, nopython=True)   \n",
    "def calc_rsi( array, deltas, avg_gain, avg_loss, n ):\n",
    "\n",
    "# Use Wilder smoothing method\n",
    "    up   = lambda x:  x if x > 0 else 0\n",
    "    down = lambda x: -x if x < 0 else 0\n",
    "    i = n+1\n",
    "    for d in deltas[n+1:]:\n",
    "        avg_gain = ((avg_gain * (n-1)) + up(d)) / n\n",
    "        avg_loss = ((avg_loss * (n-1)) + down(d)) / n\n",
    "        if avg_loss != 0:\n",
    "            rs = avg_gain / avg_loss\n",
    "            array[i] = 100 - (100 / (1 + rs))\n",
    "        else:\n",
    "            array[i] = 100\n",
    "        i += 1\n",
    "\n",
    "    return array\n",
    "\n",
    "# Default period for the RSI indicator is 14\n",
    "def getRSI(array, n = 14):   \n",
    "\n",
    "    deltas = np.append([0],np.diff(array))\n",
    "\n",
    "    avg_gain =  np.sum(deltas[1:n+1].clip(min=0)) / n\n",
    "    avg_loss = -np.sum(deltas[1:n+1].clip(max=0)) / n\n",
    "\n",
    "    array = np.empty(deltas.shape[0])\n",
    "    array.fill(np.nan)\n",
    "\n",
    "    array = calc_rsi( array, deltas, avg_gain, avg_loss, n )\n",
    "    return array\n",
    "\n",
    "## Get the dataframe with information of rates, RSI and bollinger bands\n",
    "def getAllInfo(rates):  \n",
    "    boll = getBollBands(rates.close)\n",
    "    rsi = getRSI(rates.close)\n",
    "    \n",
    "    times = rates['time'].values\n",
    "        \n",
    "    # First get the RSI, signal and Bollinger bands in a dataframe with respect to time\n",
    "    algDf = pd.DataFrame()\n",
    "    algDf['Date'] = times\n",
    "    algDf = algDf.set_index('Date')\n",
    "    \n",
    "    # Add the RSI values\n",
    "    algDf['RSI'] = list(rsi)\n",
    "    \n",
    "    # Add the signal values (using the close value)\n",
    "    ratesDf = pd.DataFrame(rates.drop(columns = ['time', 'tick_volume', 'spread', 'real_volume']))\n",
    "    ratesDf['Date'] = times\n",
    "    ratesDf = ratesDf.set_index('Date')\n",
    "    \n",
    "    # Add the bollinger bands (can use the mav to figure out the take-profit value)\n",
    "    boll.reset_index(inplace=True)\n",
    "    boll['Date'] = times\n",
    "    boll = boll.set_index('Date')\n",
    "        \n",
    "    concatDf = pd.concat([algDf, boll, ratesDf], axis=1)\n",
    "    concatDf.drop(columns=['index'], inplace=True)\n",
    "    \n",
    "    filteredDf = concatDf[concatDf.mav > 0]\n",
    "    filteredDf.reset_index(inplace=True)\n",
    "    \n",
    "    return filteredDf"
   ]
  },
  {
   "cell_type": "markdown",
   "metadata": {},
   "source": [
    "## Bollinger band test on all GBP pairs"
   ]
  },
  {
   "cell_type": "code",
   "execution_count": null,
   "metadata": {
    "scrolled": false
   },
   "outputs": [],
   "source": [
    "timeDict = {'15': mt5.TIMEFRAME_M15, '30': mt5.TIMEFRAME_M30, '60': mt5.TIMEFRAME_H1}\n",
    "\n",
    "barsAfter = [3, 5, 12]\n",
    "resultDict = {}\n",
    "\n",
    "signals = mt5.symbols_get(group=\"*GBP*, !*EUR*, !*JPY*\")\n",
    "# signals = mt5.symbols_get(group=\"*GBP*, *JPY*, *EUR*, *AUD*, *GBP*, *CHF*, *NZD*, *CAD*\")\n",
    "\n",
    "sigNames = [sig.name for sig in signals]\n",
    "print(sigNames)\n",
    "\n",
    "pips = 0.001\n",
    "\n",
    "for sig in sigNames:\n",
    "    print(sig)\n",
    "    \n",
    "    for key, val in tqdm(timeDict.items()):\n",
    "        print(key)\n",
    "\n",
    "        resultDict[key] = defaultdict(list)\n",
    "\n",
    "        numYears = 1\n",
    "        numBefore = int(60/int(key) * 24 * 365 * numYears) # Data for one year \n",
    "\n",
    "        print(numBefore)\n",
    "        rates = getData(numBefore, key, sig, timeDict) \n",
    "\n",
    "        print(mt5.last_error())\n",
    "        filteredDf = getAllInfo(rates)\n",
    "\n",
    "        ## FIRST CHECK IF THERE IS ANY CORRELATION FOR A SIMPLE BREACH OF BARS\n",
    "        for index, row in tqdm(filteredDf.iterrows()):\n",
    "            if index > len(filteredDf)-max(barsAfter)-1:\n",
    "                 continue\n",
    "\n",
    "            # Current bar has closed outside upper band\n",
    "            if row.close > row.topBand:\n",
    "                for n in barsAfter:\n",
    "                    nextBars = filteredDf.iloc[index+1:index+n+1]\n",
    "\n",
    "                    if min(nextBars.low) < (row.close - pips):\n",
    "                        resultDict[key][n].append(True)\n",
    "                    else:\n",
    "                        resultDict[key][n].append(False)\n",
    "\n",
    "            elif row.close < row.bottomBand:\n",
    "\n",
    "                for n in barsAfter:\n",
    "                    nextBars = filteredDf.iloc[index+1:index+n+1]\n",
    "\n",
    "                    if max(nextBars.high) > (row.close + pips):\n",
    "                        resultDict[key][n].append(True)\n",
    "                    else:\n",
    "                        resultDict[key][n].append(False)\n",
    "\n",
    "#     print('timeframe', 'bars_after', 'truth_values', 'percentage_true')\n",
    "    for key, val in resultDict.items():\n",
    "        for i, j in val.items():\n",
    "            n, c = np.unique(j, return_counts=True)\n",
    "            print(key, i, n, c, c[1]/sum(c)*100)\n",
    "        print('\\n')"
   ]
  },
  {
   "cell_type": "markdown",
   "metadata": {},
   "source": [
    "## RSI test on all GBP pairs"
   ]
  },
  {
   "cell_type": "code",
   "execution_count": 5,
   "metadata": {},
   "outputs": [
    {
     "name": "stdout",
     "output_type": "stream",
     "text": [
      "['EURUSD', 'GBPUSD', 'USDCHF', 'USDJPY', 'USDCAD', 'AUDUSD', 'AUDNZD', 'AUDCAD', 'AUDCHF', 'AUDJPY', 'CHFJPY', 'EURGBP', 'EURAUD', 'EURCHF', 'EURJPY', 'EURNZD', 'EURCAD', 'GBPCHF', 'GBPJPY', 'CADCHF', 'AUDHKD', 'EURDKK', 'EURHUF', 'EURMXN', 'EURNOK', 'EURPLN', 'EURSEK', 'EURTRY', 'CADJPY', 'GBPAUD', 'GBPCAD', 'GBPNZD', 'NZDCAD', 'NZDCHF', 'NZDJPY', 'NZDUSD']\n"
     ]
    }
   ],
   "source": [
    "timeDict = {'15': mt5.TIMEFRAME_M15, '30': mt5.TIMEFRAME_M30, '60': mt5.TIMEFRAME_H1}\n",
    "\n",
    "threshUp = 75\n",
    "threshDown = 25\n",
    "\n",
    "barsAfter = [3, 5, 12]\n",
    "resultDict = {}\n",
    "\n",
    "# signals = mt5.symbols_get(group=\"*GBP*, !*EUR*, !*JPY*\")\n",
    "signals = mt5.symbols_get(group=\"*GBP*, *JPY*, *EUR*, *AUD*, *GBP*, *CHF*, *NZD*, *CAD*\")\n",
    "\n",
    "sigNames = [sig.name for sig in signals]\n",
    "print(sigNames)\n",
    "\n",
    "pips = 0.001"
   ]
  },
  {
   "cell_type": "code",
   "execution_count": 9,
   "metadata": {
    "scrolled": false
   },
   "outputs": [
    {
     "name": "stdout",
     "output_type": "stream",
     "text": [
      "EURUSD\n"
     ]
    },
    {
     "data": {
      "application/vnd.jupyter.widget-view+json": {
       "model_id": "d9c6eeb28498449fb91a2ddb8105de52",
       "version_major": 2,
       "version_minor": 0
      },
      "text/plain": [
       "HBox(children=(IntProgress(value=0, max=3), HTML(value='')))"
      ]
     },
     "metadata": {},
     "output_type": "display_data"
    },
    {
     "name": "stdout",
     "output_type": "stream",
     "text": [
      "3504\n",
      "(1, 'Success')\n"
     ]
    },
    {
     "data": {
      "application/vnd.jupyter.widget-view+json": {
       "model_id": "f040804f179d4b54ab05268a736967c4",
       "version_major": 2,
       "version_minor": 0
      },
      "text/plain": [
       "HBox(children=(IntProgress(value=1, bar_style='info', max=1), HTML(value='')))"
      ]
     },
     "metadata": {},
     "output_type": "display_data"
    },
    {
     "name": "stdout",
     "output_type": "stream",
     "text": [
      "\n",
      "1752\n",
      "(1, 'Success')\n"
     ]
    },
    {
     "data": {
      "application/vnd.jupyter.widget-view+json": {
       "model_id": "d9ef86be48a3407fb854d1a6dbe8c34d",
       "version_major": 2,
       "version_minor": 0
      },
      "text/plain": [
       "HBox(children=(IntProgress(value=1, bar_style='info', max=1), HTML(value='')))"
      ]
     },
     "metadata": {},
     "output_type": "display_data"
    },
    {
     "name": "stdout",
     "output_type": "stream",
     "text": [
      "\n",
      "876\n",
      "(1, 'Success')\n"
     ]
    },
    {
     "data": {
      "application/vnd.jupyter.widget-view+json": {
       "model_id": "e843ce3363d046d7a7f1c297da372737",
       "version_major": 2,
       "version_minor": 0
      },
      "text/plain": [
       "HBox(children=(IntProgress(value=1, bar_style='info', max=1), HTML(value='')))"
      ]
     },
     "metadata": {},
     "output_type": "display_data"
    },
    {
     "name": "stdout",
     "output_type": "stream",
     "text": [
      "\n",
      "\n",
      "15 3 [False  True] [99 30] 23.25581395348837\n",
      "15 5 [False  True] [87 42] 32.55813953488372\n",
      "15 12 [False  True] [68 61] 47.286821705426355\n",
      "\n",
      "\n",
      "30 3 [False  True] [44 30] 40.54054054054054\n",
      "30 5 [False  True] [36 38] 51.35135135135135\n",
      "30 12 [False  True] [25 49] 66.21621621621621\n",
      "\n",
      "\n",
      "60 3 [False  True] [15 24] 61.53846153846154\n",
      "60 5 [False  True] [ 9 30] 76.92307692307693\n",
      "60 12 [False  True] [ 5 34] 87.17948717948718\n",
      "\n",
      "\n",
      "GBPUSD\n"
     ]
    },
    {
     "data": {
      "application/vnd.jupyter.widget-view+json": {
       "model_id": "0423456986914858b79218d112920cbf",
       "version_major": 2,
       "version_minor": 0
      },
      "text/plain": [
       "HBox(children=(IntProgress(value=0, max=3), HTML(value='')))"
      ]
     },
     "metadata": {},
     "output_type": "display_data"
    },
    {
     "name": "stdout",
     "output_type": "stream",
     "text": [
      "3504\n",
      "(1, 'Success')\n"
     ]
    },
    {
     "data": {
      "application/vnd.jupyter.widget-view+json": {
       "model_id": "73a2c8ed415f45f6987c79e8694b04c7",
       "version_major": 2,
       "version_minor": 0
      },
      "text/plain": [
       "HBox(children=(IntProgress(value=1, bar_style='info', max=1), HTML(value='')))"
      ]
     },
     "metadata": {},
     "output_type": "display_data"
    },
    {
     "name": "stdout",
     "output_type": "stream",
     "text": [
      "\n",
      "1752\n",
      "(1, 'Success')\n"
     ]
    },
    {
     "data": {
      "application/vnd.jupyter.widget-view+json": {
       "model_id": "5435f7ce58e342499f6aa486f272be1a",
       "version_major": 2,
       "version_minor": 0
      },
      "text/plain": [
       "HBox(children=(IntProgress(value=1, bar_style='info', max=1), HTML(value='')))"
      ]
     },
     "metadata": {},
     "output_type": "display_data"
    },
    {
     "name": "stdout",
     "output_type": "stream",
     "text": [
      "\n",
      "876\n",
      "(1, 'Success')\n"
     ]
    },
    {
     "data": {
      "application/vnd.jupyter.widget-view+json": {
       "model_id": "37f009f023314fb49ca42c1126b97d05",
       "version_major": 2,
       "version_minor": 0
      },
      "text/plain": [
       "HBox(children=(IntProgress(value=1, bar_style='info', max=1), HTML(value='')))"
      ]
     },
     "metadata": {},
     "output_type": "display_data"
    },
    {
     "name": "stdout",
     "output_type": "stream",
     "text": [
      "\n",
      "\n",
      "15 3 [False  True] [51 61] 54.46428571428571\n",
      "15 5 [False  True] [41 71] 63.39285714285714\n",
      "15 12 [False  True] [22 90] 80.35714285714286\n",
      "\n",
      "\n",
      "30 3 [False  True] [35 35] 50.0\n",
      "30 5 [False  True] [28 42] 60.0\n",
      "30 12 [False  True] [19 51] 72.85714285714285\n",
      "\n",
      "\n",
      "60 3 [False  True] [ 8 19] 70.37037037037037\n",
      "60 5 [False  True] [ 6 21] 77.77777777777779\n",
      "60 12 [False  True] [ 3 24] 88.88888888888889\n",
      "\n",
      "\n",
      "USDCHF\n"
     ]
    },
    {
     "data": {
      "application/vnd.jupyter.widget-view+json": {
       "model_id": "b20a0dbd131e4557b243b9b8d3c2d0b0",
       "version_major": 2,
       "version_minor": 0
      },
      "text/plain": [
       "HBox(children=(IntProgress(value=0, max=3), HTML(value='')))"
      ]
     },
     "metadata": {},
     "output_type": "display_data"
    },
    {
     "name": "stdout",
     "output_type": "stream",
     "text": [
      "3504\n",
      "(1, 'Success')\n"
     ]
    },
    {
     "data": {
      "application/vnd.jupyter.widget-view+json": {
       "model_id": "1416fc84bfd049e19d74afd84995fbe9",
       "version_major": 2,
       "version_minor": 0
      },
      "text/plain": [
       "HBox(children=(IntProgress(value=1, bar_style='info', max=1), HTML(value='')))"
      ]
     },
     "metadata": {},
     "output_type": "display_data"
    },
    {
     "name": "stdout",
     "output_type": "stream",
     "text": [
      "\n",
      "1752\n",
      "(1, 'Success')\n"
     ]
    },
    {
     "data": {
      "application/vnd.jupyter.widget-view+json": {
       "model_id": "072c961fc8034e3a934527dcf0b5252d",
       "version_major": 2,
       "version_minor": 0
      },
      "text/plain": [
       "HBox(children=(IntProgress(value=1, bar_style='info', max=1), HTML(value='')))"
      ]
     },
     "metadata": {},
     "output_type": "display_data"
    },
    {
     "name": "stdout",
     "output_type": "stream",
     "text": [
      "\n",
      "876\n",
      "(1, 'Success')\n"
     ]
    },
    {
     "data": {
      "application/vnd.jupyter.widget-view+json": {
       "model_id": "2f9e6934171946bba77003480ad6d534",
       "version_major": 2,
       "version_minor": 0
      },
      "text/plain": [
       "HBox(children=(IntProgress(value=1, bar_style='info', max=1), HTML(value='')))"
      ]
     },
     "metadata": {},
     "output_type": "display_data"
    },
    {
     "name": "stdout",
     "output_type": "stream",
     "text": [
      "\n",
      "\n",
      "15 3 [False  True] [107  16] 13.008130081300814\n",
      "15 5 [False  True] [96 27] 21.951219512195124\n",
      "15 12 [False  True] [83 40] 32.52032520325203\n",
      "\n",
      "\n",
      "30 3 [False  True] [57 21] 26.923076923076923\n",
      "30 5 [False  True] [55 23] 29.48717948717949\n",
      "30 12 [False  True] [37 41] 52.56410256410257\n",
      "\n",
      "\n",
      "60 3 [False  True] [24 20] 45.45454545454545\n",
      "60 5 [False  True] [17 27] 61.36363636363637\n",
      "60 12 [False  True] [12 32] 72.72727272727273\n",
      "\n",
      "\n",
      "USDJPY\n"
     ]
    },
    {
     "data": {
      "application/vnd.jupyter.widget-view+json": {
       "model_id": "83524190dd8e473ca9c367711d28e8b1",
       "version_major": 2,
       "version_minor": 0
      },
      "text/plain": [
       "HBox(children=(IntProgress(value=0, max=3), HTML(value='')))"
      ]
     },
     "metadata": {},
     "output_type": "display_data"
    },
    {
     "name": "stdout",
     "output_type": "stream",
     "text": [
      "3504\n",
      "(1, 'Success')\n"
     ]
    },
    {
     "data": {
      "application/vnd.jupyter.widget-view+json": {
       "model_id": "10ca5bec360a4428a40a2e136c75f023",
       "version_major": 2,
       "version_minor": 0
      },
      "text/plain": [
       "HBox(children=(IntProgress(value=1, bar_style='info', max=1), HTML(value='')))"
      ]
     },
     "metadata": {},
     "output_type": "display_data"
    },
    {
     "name": "stdout",
     "output_type": "stream",
     "text": [
      "\n",
      "1752\n",
      "(1, 'Success')\n"
     ]
    },
    {
     "data": {
      "application/vnd.jupyter.widget-view+json": {
       "model_id": "37381422a41c4192923d820995f7c5b6",
       "version_major": 2,
       "version_minor": 0
      },
      "text/plain": [
       "HBox(children=(IntProgress(value=1, bar_style='info', max=1), HTML(value='')))"
      ]
     },
     "metadata": {},
     "output_type": "display_data"
    },
    {
     "name": "stdout",
     "output_type": "stream",
     "text": [
      "\n",
      "876\n",
      "(1, 'Success')\n"
     ]
    },
    {
     "data": {
      "application/vnd.jupyter.widget-view+json": {
       "model_id": "d5d9bdc4377b42a6924be7a97686f302",
       "version_major": 2,
       "version_minor": 0
      },
      "text/plain": [
       "HBox(children=(IntProgress(value=1, bar_style='info', max=1), HTML(value='')))"
      ]
     },
     "metadata": {},
     "output_type": "display_data"
    },
    {
     "name": "stdout",
     "output_type": "stream",
     "text": [
      "\n",
      "\n",
      "15 3 [False  True] [  6 106] 94.64285714285714\n",
      "15 5 [False  True] [  4 108] 96.42857142857143\n",
      "15 12 [False  True] [  3 109] 97.32142857142857\n",
      "\n",
      "\n",
      "30 3 [False  True] [ 3 53] 94.64285714285714\n",
      "30 5 [False  True] [ 3 53] 94.64285714285714\n",
      "30 12 [False  True] [ 3 53] 94.64285714285714\n",
      "\n",
      "\n",
      "60 3 [False  True] [ 1 25] 96.15384615384616\n",
      "60 5 [False  True] [ 1 25] 96.15384615384616\n"
     ]
    },
    {
     "ename": "IndexError",
     "evalue": "index 1 is out of bounds for axis 0 with size 1",
     "output_type": "error",
     "traceback": [
      "\u001b[1;31m---------------------------------------------------------------------------\u001b[0m",
      "\u001b[1;31mIndexError\u001b[0m                                Traceback (most recent call last)",
      "\u001b[1;32m<ipython-input-9-907953304ab3>\u001b[0m in \u001b[0;36m<module>\u001b[1;34m\u001b[0m\n\u001b[0;32m     43\u001b[0m         \u001b[1;32mfor\u001b[0m \u001b[0mi\u001b[0m\u001b[1;33m,\u001b[0m \u001b[0mj\u001b[0m \u001b[1;32min\u001b[0m \u001b[0mval\u001b[0m\u001b[1;33m.\u001b[0m\u001b[0mitems\u001b[0m\u001b[1;33m(\u001b[0m\u001b[1;33m)\u001b[0m\u001b[1;33m:\u001b[0m\u001b[1;33m\u001b[0m\u001b[1;33m\u001b[0m\u001b[0m\n\u001b[0;32m     44\u001b[0m             \u001b[0mn\u001b[0m\u001b[1;33m,\u001b[0m \u001b[0mc\u001b[0m \u001b[1;33m=\u001b[0m \u001b[0mnp\u001b[0m\u001b[1;33m.\u001b[0m\u001b[0munique\u001b[0m\u001b[1;33m(\u001b[0m\u001b[0mj\u001b[0m\u001b[1;33m,\u001b[0m \u001b[0mreturn_counts\u001b[0m\u001b[1;33m=\u001b[0m\u001b[1;32mTrue\u001b[0m\u001b[1;33m)\u001b[0m\u001b[1;33m\u001b[0m\u001b[1;33m\u001b[0m\u001b[0m\n\u001b[1;32m---> 45\u001b[1;33m             \u001b[0mprint\u001b[0m\u001b[1;33m(\u001b[0m\u001b[0mkey\u001b[0m\u001b[1;33m,\u001b[0m \u001b[0mi\u001b[0m\u001b[1;33m,\u001b[0m \u001b[0mn\u001b[0m\u001b[1;33m,\u001b[0m \u001b[0mc\u001b[0m\u001b[1;33m,\u001b[0m \u001b[0mc\u001b[0m\u001b[1;33m[\u001b[0m\u001b[1;36m1\u001b[0m\u001b[1;33m]\u001b[0m\u001b[1;33m/\u001b[0m\u001b[0msum\u001b[0m\u001b[1;33m(\u001b[0m\u001b[0mc\u001b[0m\u001b[1;33m)\u001b[0m\u001b[1;33m*\u001b[0m\u001b[1;36m100\u001b[0m\u001b[1;33m)\u001b[0m\u001b[1;33m\u001b[0m\u001b[1;33m\u001b[0m\u001b[0m\n\u001b[0m\u001b[0;32m     46\u001b[0m         \u001b[0mprint\u001b[0m\u001b[1;33m(\u001b[0m\u001b[1;34m'\\n'\u001b[0m\u001b[1;33m)\u001b[0m\u001b[1;33m\u001b[0m\u001b[1;33m\u001b[0m\u001b[0m\n",
      "\u001b[1;31mIndexError\u001b[0m: index 1 is out of bounds for axis 0 with size 1"
     ]
    }
   ],
   "source": [
    "for sig in sigNames:\n",
    "    print(sig)\n",
    "    \n",
    "    for key, val in tqdm(timeDict.items()):\n",
    "        resultDict[key] = defaultdict(list)\n",
    "\n",
    "        numYears = 0.1\n",
    "        numBefore = int(60/int(key) * 24 * 365 * numYears) # Data for one year \n",
    "        print(numBefore)\n",
    "        \n",
    "        rates = getData(numBefore, key, sig, timeDict) \n",
    "        filteredDf = getAllInfo(rates)\n",
    "        print(mt5.last_error())       \n",
    "\n",
    "        ## FIRST CHECK IF THERE IS ANY CORRELATION FOR A SIMPLE BREACH OF BARS\n",
    "        for index, row in tqdm(filteredDf.iterrows()):\n",
    "            if index > len(filteredDf)-max(barsAfter)-1:\n",
    "                 continue\n",
    "\n",
    "            # Current bar has closed outside upper band\n",
    "            if row.RSI > threshUp:\n",
    "    #            print(pd.to_datetime(row.Date, unit='s'))\n",
    "\n",
    "                for n in barsAfter:\n",
    "                    nextBars = filteredDf.iloc[index+1:index+n+1]\n",
    "\n",
    "                    if min(nextBars.low) < (row.close - pips):\n",
    "                        resultDict[key][n].append(True)\n",
    "                    else:\n",
    "                        resultDict[key][n].append(False)\n",
    "\n",
    "            elif row.RSI < threshDown:\n",
    "\n",
    "                for n in barsAfter:\n",
    "                    nextBars = filteredDf.iloc[index+1:index+n+1]\n",
    "\n",
    "                    if max(nextBars.high) > (row.close + pips):\n",
    "                        resultDict[key][n].append(True)\n",
    "                    else:\n",
    "                        resultDict[key][n].append(False)\n",
    "                        \n",
    "    for key, val in resultDict.items():\n",
    "        for i, j in val.items():\n",
    "            n, c = np.unique(j, return_counts=True)\n",
    "            print(key, i, n, c, c[1]/sum(c)*100)\n",
    "        print('\\n')"
   ]
  },
  {
   "cell_type": "markdown",
   "metadata": {},
   "source": [
    "## RSI + Bollinger band test on GBP pairs"
   ]
  },
  {
   "cell_type": "code",
   "execution_count": 11,
   "metadata": {
    "scrolled": false
   },
   "outputs": [
    {
     "name": "stdout",
     "output_type": "stream",
     "text": [
      "GBPUSD\n"
     ]
    },
    {
     "data": {
      "application/vnd.jupyter.widget-view+json": {
       "model_id": "0369351a1d2346fb804f1e01fe811650",
       "version_major": 2,
       "version_minor": 0
      },
      "text/plain": [
       "HBox(children=(FloatProgress(value=0.0, max=3.0), HTML(value='')))"
      ]
     },
     "metadata": {},
     "output_type": "display_data"
    },
    {
     "data": {
      "application/vnd.jupyter.widget-view+json": {
       "model_id": "c30661bdf0af4bbd82928134f2e8023b",
       "version_major": 2,
       "version_minor": 0
      },
      "text/plain": [
       "HBox(children=(FloatProgress(value=1.0, bar_style='info', max=1.0), HTML(value='')))"
      ]
     },
     "metadata": {},
     "output_type": "display_data"
    },
    {
     "name": "stdout",
     "output_type": "stream",
     "text": [
      "\n"
     ]
    },
    {
     "data": {
      "application/vnd.jupyter.widget-view+json": {
       "model_id": "6088b6d5522c47cda20cdac42a46a616",
       "version_major": 2,
       "version_minor": 0
      },
      "text/plain": [
       "HBox(children=(FloatProgress(value=1.0, bar_style='info', max=1.0), HTML(value='')))"
      ]
     },
     "metadata": {},
     "output_type": "display_data"
    },
    {
     "name": "stdout",
     "output_type": "stream",
     "text": [
      "\n"
     ]
    },
    {
     "data": {
      "application/vnd.jupyter.widget-view+json": {
       "model_id": "6fe8e4049f79463585384c2e8a5b1fd5",
       "version_major": 2,
       "version_minor": 0
      },
      "text/plain": [
       "HBox(children=(FloatProgress(value=1.0, bar_style='info', max=1.0), HTML(value='')))"
      ]
     },
     "metadata": {},
     "output_type": "display_data"
    },
    {
     "name": "stdout",
     "output_type": "stream",
     "text": [
      "\n",
      "\n",
      "15 3 [False  True] [ 324 1029] 76.05321507760532\n",
      "15 5 [False  True] [ 248 1105] 81.67036215816704\n",
      "15 12 [False  True] [ 161 1192] 88.10051736881005\n",
      "\n",
      "\n",
      "30 3 [False  True] [149 640] 81.11533586818757\n",
      "30 5 [False  True] [116 673] 85.29784537389101\n",
      "30 12 [False  True] [ 75 714] 90.49429657794677\n",
      "\n",
      "\n",
      "60 3 [False  True] [ 63 395] 86.24454148471615\n",
      "60 5 [False  True] [ 53 405] 88.42794759825327\n",
      "60 12 [False  True] [ 43 415] 90.61135371179039\n",
      "\n",
      "\n",
      "GBPCHF\n"
     ]
    },
    {
     "data": {
      "application/vnd.jupyter.widget-view+json": {
       "model_id": "2f6805f09531445a8e771fa9eb097078",
       "version_major": 2,
       "version_minor": 0
      },
      "text/plain": [
       "HBox(children=(FloatProgress(value=0.0, max=3.0), HTML(value='')))"
      ]
     },
     "metadata": {},
     "output_type": "display_data"
    },
    {
     "data": {
      "application/vnd.jupyter.widget-view+json": {
       "model_id": "df01f1549a424f08ab251b447a4c18d6",
       "version_major": 2,
       "version_minor": 0
      },
      "text/plain": [
       "HBox(children=(FloatProgress(value=1.0, bar_style='info', max=1.0), HTML(value='')))"
      ]
     },
     "metadata": {},
     "output_type": "display_data"
    },
    {
     "name": "stdout",
     "output_type": "stream",
     "text": [
      "\n"
     ]
    },
    {
     "data": {
      "application/vnd.jupyter.widget-view+json": {
       "model_id": "468ec60197cf4acfa3e322955a5e6ca3",
       "version_major": 2,
       "version_minor": 0
      },
      "text/plain": [
       "HBox(children=(FloatProgress(value=1.0, bar_style='info', max=1.0), HTML(value='')))"
      ]
     },
     "metadata": {},
     "output_type": "display_data"
    },
    {
     "name": "stdout",
     "output_type": "stream",
     "text": [
      "\n"
     ]
    },
    {
     "data": {
      "application/vnd.jupyter.widget-view+json": {
       "model_id": "a37e9157da974b42aa3f6bc07818bee0",
       "version_major": 2,
       "version_minor": 0
      },
      "text/plain": [
       "HBox(children=(FloatProgress(value=1.0, bar_style='info', max=1.0), HTML(value='')))"
      ]
     },
     "metadata": {},
     "output_type": "display_data"
    },
    {
     "name": "stdout",
     "output_type": "stream",
     "text": [
      "\n",
      "\n",
      "15 3 [False  True] [313 877] 73.69747899159664\n",
      "15 5 [False  True] [251 939] 78.90756302521008\n",
      "15 12 [False  True] [ 167 1023] 85.96638655462185\n",
      "\n",
      "\n",
      "30 3 [False  True] [133 563] 80.89080459770115\n",
      "30 5 [False  True] [103 593] 85.20114942528735\n",
      "30 12 [False  True] [ 72 624] 89.65517241379311\n",
      "\n",
      "\n",
      "60 3 [False  True] [ 45 333] 88.09523809523809\n",
      "60 5 [False  True] [ 38 340] 89.94708994708994\n",
      "60 12 [False  True] [ 30 348] 92.06349206349206\n",
      "\n",
      "\n",
      "GBPAUD\n"
     ]
    },
    {
     "data": {
      "application/vnd.jupyter.widget-view+json": {
       "model_id": "0ad0bb2edad94047bed037d599e18f10",
       "version_major": 2,
       "version_minor": 0
      },
      "text/plain": [
       "HBox(children=(FloatProgress(value=0.0, max=3.0), HTML(value='')))"
      ]
     },
     "metadata": {},
     "output_type": "display_data"
    },
    {
     "data": {
      "application/vnd.jupyter.widget-view+json": {
       "model_id": "efd4f452b53047968049dd3be4163b0c",
       "version_major": 2,
       "version_minor": 0
      },
      "text/plain": [
       "HBox(children=(FloatProgress(value=1.0, bar_style='info', max=1.0), HTML(value='')))"
      ]
     },
     "metadata": {},
     "output_type": "display_data"
    },
    {
     "name": "stdout",
     "output_type": "stream",
     "text": [
      "\n"
     ]
    },
    {
     "data": {
      "application/vnd.jupyter.widget-view+json": {
       "model_id": "ff2a2d1935934a028704040836ae5980",
       "version_major": 2,
       "version_minor": 0
      },
      "text/plain": [
       "HBox(children=(FloatProgress(value=1.0, bar_style='info', max=1.0), HTML(value='')))"
      ]
     },
     "metadata": {},
     "output_type": "display_data"
    },
    {
     "name": "stdout",
     "output_type": "stream",
     "text": [
      "\n"
     ]
    },
    {
     "data": {
      "application/vnd.jupyter.widget-view+json": {
       "model_id": "1adbf75b23144933b131abe6451e29c5",
       "version_major": 2,
       "version_minor": 0
      },
      "text/plain": [
       "HBox(children=(FloatProgress(value=1.0, bar_style='info', max=1.0), HTML(value='')))"
      ]
     },
     "metadata": {},
     "output_type": "display_data"
    },
    {
     "name": "stdout",
     "output_type": "stream",
     "text": [
      "\n",
      "\n",
      "15 3 [False  True] [229 845] 78.67783985102422\n",
      "15 5 [False  True] [179 895] 83.33333333333334\n",
      "15 12 [False  True] [120 954] 88.8268156424581\n",
      "\n",
      "\n",
      "30 3 [False  True] [ 88 486] 84.66898954703834\n",
      "30 5 [False  True] [ 67 507] 88.32752613240417\n",
      "30 12 [False  True] [ 42 532] 92.6829268292683\n",
      "\n",
      "\n",
      "60 3 [False  True] [ 31 279] 90.0\n",
      "60 5 [False  True] [ 21 289] 93.2258064516129\n",
      "60 12 [False  True] [ 15 295] 95.16129032258065\n",
      "\n",
      "\n",
      "GBPCAD\n"
     ]
    },
    {
     "data": {
      "application/vnd.jupyter.widget-view+json": {
       "model_id": "c33f714ff9e54ab6ae4bc9237992f57a",
       "version_major": 2,
       "version_minor": 0
      },
      "text/plain": [
       "HBox(children=(FloatProgress(value=0.0, max=3.0), HTML(value='')))"
      ]
     },
     "metadata": {},
     "output_type": "display_data"
    },
    {
     "data": {
      "application/vnd.jupyter.widget-view+json": {
       "model_id": "067cc7dc67c243ccb014770cfd59c367",
       "version_major": 2,
       "version_minor": 0
      },
      "text/plain": [
       "HBox(children=(FloatProgress(value=1.0, bar_style='info', max=1.0), HTML(value='')))"
      ]
     },
     "metadata": {},
     "output_type": "display_data"
    },
    {
     "name": "stdout",
     "output_type": "stream",
     "text": [
      "\n"
     ]
    },
    {
     "data": {
      "application/vnd.jupyter.widget-view+json": {
       "model_id": "de785ae375cf4743950928f462d52e78",
       "version_major": 2,
       "version_minor": 0
      },
      "text/plain": [
       "HBox(children=(FloatProgress(value=1.0, bar_style='info', max=1.0), HTML(value='')))"
      ]
     },
     "metadata": {},
     "output_type": "display_data"
    },
    {
     "name": "stdout",
     "output_type": "stream",
     "text": [
      "\n"
     ]
    },
    {
     "data": {
      "application/vnd.jupyter.widget-view+json": {
       "model_id": "ee375ac4b7434f6d9e0dd0a091186ad2",
       "version_major": 2,
       "version_minor": 0
      },
      "text/plain": [
       "HBox(children=(FloatProgress(value=1.0, bar_style='info', max=1.0), HTML(value='')))"
      ]
     },
     "metadata": {},
     "output_type": "display_data"
    },
    {
     "name": "stdout",
     "output_type": "stream",
     "text": [
      "\n",
      "\n",
      "15 3 [False  True] [ 259 1022] 79.78142076502732\n",
      "15 5 [False  True] [ 205 1076] 83.9968774395004\n",
      "15 12 [False  True] [ 130 1151] 89.85167837626854\n",
      "\n",
      "\n",
      "30 3 [False  True] [ 97 592] 85.92162554426706\n",
      "30 5 [False  True] [ 77 612] 88.82438316400581\n",
      "30 12 [False  True] [ 54 635] 92.16255442670537\n",
      "\n",
      "\n",
      "60 3 [False  True] [ 40 314] 88.70056497175142\n",
      "60 5 [False  True] [ 33 321] 90.67796610169492\n",
      "60 12 [False  True] [ 29 325] 91.80790960451978\n",
      "\n",
      "\n",
      "GBPNZD\n"
     ]
    },
    {
     "data": {
      "application/vnd.jupyter.widget-view+json": {
       "model_id": "8a4f92a5e76e41e38f43d7175ee6cd97",
       "version_major": 2,
       "version_minor": 0
      },
      "text/plain": [
       "HBox(children=(FloatProgress(value=0.0, max=3.0), HTML(value='')))"
      ]
     },
     "metadata": {},
     "output_type": "display_data"
    },
    {
     "data": {
      "application/vnd.jupyter.widget-view+json": {
       "model_id": "72c4a4fd849d4fb183e404251c017374",
       "version_major": 2,
       "version_minor": 0
      },
      "text/plain": [
       "HBox(children=(FloatProgress(value=1.0, bar_style='info', max=1.0), HTML(value='')))"
      ]
     },
     "metadata": {},
     "output_type": "display_data"
    },
    {
     "name": "stdout",
     "output_type": "stream",
     "text": [
      "\n"
     ]
    },
    {
     "data": {
      "application/vnd.jupyter.widget-view+json": {
       "model_id": "a10f4caef69745a38a51fe6f95d46677",
       "version_major": 2,
       "version_minor": 0
      },
      "text/plain": [
       "HBox(children=(FloatProgress(value=1.0, bar_style='info', max=1.0), HTML(value='')))"
      ]
     },
     "metadata": {},
     "output_type": "display_data"
    },
    {
     "name": "stdout",
     "output_type": "stream",
     "text": [
      "\n"
     ]
    },
    {
     "data": {
      "application/vnd.jupyter.widget-view+json": {
       "model_id": "3d641b8009b64c7c863d7786f7e5a1a6",
       "version_major": 2,
       "version_minor": 0
      },
      "text/plain": [
       "HBox(children=(FloatProgress(value=1.0, bar_style='info', max=1.0), HTML(value='')))"
      ]
     },
     "metadata": {},
     "output_type": "display_data"
    },
    {
     "name": "stdout",
     "output_type": "stream",
     "text": [
      "\n",
      "\n",
      "15 3 [False  True] [175 794] 81.94014447884416\n",
      "15 5 [False  True] [140 829] 85.55211558307533\n",
      "15 12 [False  True] [ 98 871] 89.88648090815273\n",
      "\n",
      "\n",
      "30 3 [False  True] [ 70 468] 86.98884758364312\n",
      "30 5 [False  True] [ 52 486] 90.33457249070632\n",
      "30 12 [False  True] [ 34 504] 93.68029739776952\n",
      "\n",
      "\n",
      "60 3 [False  True] [ 25 234] 90.34749034749035\n",
      "60 5 [False  True] [ 20 239] 92.27799227799228\n",
      "60 12 [False  True] [ 12 247] 95.36679536679536\n",
      "\n",
      "\n"
     ]
    }
   ],
   "source": [
    "pips = 0.0005\n",
    "for sig in sigNames:\n",
    "    print(sig)\n",
    "    \n",
    "    for key, val in tqdm(timeDict.items()):\n",
    "        resultDict[key] = defaultdict(list)\n",
    "\n",
    "        numYears = 2\n",
    "        numBefore = int(60/int(key) * 24 * 365 * numYears) # Data for one year \n",
    "\n",
    "        rates = getData(numBefore, key, sig, timeDict) \n",
    "        filteredDf = getAllInfo(rates)\n",
    "\n",
    "        ## FIRST CHECK IF THERE IS ANY CORRELATION FOR A SIMPLE BREACH OF BARS\n",
    "        for index, row in tqdm(filteredDf.iterrows()):\n",
    "            if index > len(filteredDf)-max(barsAfter)-1:\n",
    "                 continue\n",
    "\n",
    "            # Current bar has closed outside upper band\n",
    "            if row.RSI > threshUp and row.close > row.topBand:\n",
    "    #            print(pd.to_datetime(row.Date, unit='s'))\n",
    "\n",
    "                for n in barsAfter:\n",
    "                    nextBars = filteredDf.iloc[index+1:index+n+1]\n",
    "\n",
    "                    if min(nextBars.low) < (row.close - pips):\n",
    "                        resultDict[key][n].append(True)\n",
    "                    else:\n",
    "                        resultDict[key][n].append(False)\n",
    "\n",
    "            elif row.RSI < threshDown and row.close < row.bottomBand:\n",
    "\n",
    "                for n in barsAfter:\n",
    "                    nextBars = filteredDf.iloc[index+1:index+n+1]\n",
    "\n",
    "                    if max(nextBars.high) > (row.close + pips):\n",
    "                        resultDict[key][n].append(True)\n",
    "                    else:\n",
    "                        resultDict[key][n].append(False)\n",
    "                        \n",
    "    for key, val in resultDict.items():\n",
    "        for i, j in val.items():\n",
    "            n, c = np.unique(j, return_counts=True)\n",
    "            print(key, i, n, c, c[1]/sum(c)*100)\n",
    "        print('\\n')"
   ]
  },
  {
   "cell_type": "code",
   "execution_count": null,
   "metadata": {},
   "outputs": [],
   "source": []
  }
 ],
 "metadata": {
  "kernelspec": {
   "display_name": "Python 3",
   "language": "python",
   "name": "python3"
  },
  "language_info": {
   "codemirror_mode": {
    "name": "ipython",
    "version": 3
   },
   "file_extension": ".py",
   "mimetype": "text/x-python",
   "name": "python",
   "nbconvert_exporter": "python",
   "pygments_lexer": "ipython3",
   "version": "3.7.4"
  }
 },
 "nbformat": 4,
 "nbformat_minor": 4
}
